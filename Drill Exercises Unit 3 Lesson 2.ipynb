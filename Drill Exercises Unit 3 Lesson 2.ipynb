{
 "cells": [
  {
   "cell_type": "markdown",
   "metadata": {},
   "source": [
    "<B><U>Drill Exercises in Probability Unit 3/Lesson 2</U></B>\n",
    "<BR>\n",
    "<I>Question 1</I> \n",
    "\n",
    "P(HTTH) = P(HHHH) = P(TTHH)\n",
    "P(HTTH) = .5**4\n",
    "P(HTTH) = .0625\n",
    "\n",
    "The probability is the same for all three scenarios because of randomness.  The probability of any 4 possible outcomes when flipping a coin 4 times is the same\n",
    "<BR>\n",
    "<I>Question 2</I>\n",
    "\n",
    "P(Man) = 21/45\n",
    "P(not Man) = 24/45\n",
    "<BR>\n",
    "<I>Question 3</I>\n",
    "\n",
    "P(plane crash | flying) = .1 * .00005\n",
    "=.000005\n",
    "<BR>\n",
    "<I>Question 4</I>\n",
    "\n",
    "There’s selection bias as the survey is only presented to users who click on a link on the website\n"
   ]
  },
  {
   "cell_type": "markdown",
   "metadata": {},
   "source": [
    "<B><U>Drill Exercises in Probability Unit 3 Bayes/Lesson 2</U></B>\n",
    "<BR>\n",
    "\n",
    "<I>Intuition</I>\n",
    "<BR>\n",
    "1. .55%\n",
    "<BR>\n",
    "2.  90%\n",
    "<BR>\n",
    "3.  99%\n",
    "<BR>\n",
    "4. 10%\n",
    "<BR>\n",
    "<BR>\n",
    "<I>Calculation</I>\n",
    "\n",
    "1. P(positive) = P(disease) * P(positive | disease) + P(no disease) * P(positive | no disease)\n",
    "    P(positive) = (.005 * .98) + (.995 * .1)\n",
    "    P(positive) =10.44\n",
    "\n",
    "2. P(Positive|Disease) = .98\n",
    "\n",
    "3. P(Negative|No Disease) = .9\n",
    "\n",
    "4. P(positive | no disease) * P(no disease) +  P(negative | disease) * P(disease)\n",
    "    (.1* .995) + (.02*.005) = .0996\n"
   ]
  },
  {
   "cell_type": "markdown",
   "metadata": {},
   "source": [
    "<B>Data Bias Exercise</B>\n",
    "\n",
    "1. AirBnB data from Amsterdam from Dec 24th, could show bias because peoples behavior tends to change during year-end holidays, presenting an exceptional circumstance. Perhaps more people will travel to Amsterdam for vacation because they have time off.  Or perhaps less people put up their homes up on AirbNb duing that time because they are staying home to celebrate the holidays\n",
    "\n",
    "2. Given the date was the day after 9/11 attacks, the use of Mental Health services in NY would be biased by the event the day before.  You could still compare the two cities, but it would make sense to narrow the scope of the experiment to \"use of mental health services following the attacks\", or take a longer view than just the day after the attacks to see how the attacks impacted longer term trends\n",
    "\n",
    "\n",
    "\n"
   ]
  },
  {
   "cell_type": "markdown",
   "metadata": {},
   "source": [
    "<B>Monty Hall Exercise</B>\n",
    "\n",
    "I started out with the common mistake of thinking that once the goat was shown I had a 50/50 chance of getting the car so I was indifferent to switching my choice.\n",
    "\n",
    "After reviewing the wikipedia page, it made more sense to flip the problem and instead of thinking about the probability that I picked the goat.\n",
    "\n",
    "There's a 2/3 probabiilty I picked the goat.  Once I am shown a door that definitely has a goat, it makes sense to switch my choice since there was a higher probability that I would pick a goat.  With the new information of where there's a goat for sure, I can switch my choice to instead have a 2/3 probability that I picked the prize.\n",
    "\n",
    "The solution makes sense but I struggled to formally apply Bayes rule to the problem\n",
    "\n"
   ]
  },
  {
   "cell_type": "code",
   "execution_count": null,
   "metadata": {},
   "outputs": [],
   "source": []
  }
 ],
 "metadata": {
  "kernelspec": {
   "display_name": "Python 3",
   "language": "python",
   "name": "python3"
  },
  "language_info": {
   "codemirror_mode": {
    "name": "ipython",
    "version": 3
   },
   "file_extension": ".py",
   "mimetype": "text/x-python",
   "name": "python",
   "nbconvert_exporter": "python",
   "pygments_lexer": "ipython3",
   "version": "3.6.4"
  }
 },
 "nbformat": 4,
 "nbformat_minor": 2
}

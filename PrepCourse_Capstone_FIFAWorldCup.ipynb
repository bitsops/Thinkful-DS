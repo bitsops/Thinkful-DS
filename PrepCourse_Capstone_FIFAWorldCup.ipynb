{
 "cells": [
  {
   "cell_type": "markdown",
   "metadata": {},
   "source": [
    "# FIFA World Cup "
   ]
  },
  {
   "cell_type": "markdown",
   "metadata": {},
   "source": [
    "## Introduction"
   ]
  },
  {
   "cell_type": "markdown",
   "metadata": {},
   "source": [
    "This analysis will use data for all FIFA World Cup Finals tournaments from 1930 through 2014.  The FIFA World Cup is played every four years.  It's a competition between the top countries in the FIFA regional conferences.  The analyses will provide high level descriptions of the tounament structure, host countries, and past winners.  It will also delve into deeper questions and trends using individual match data."
   ]
  },
  {
   "cell_type": "markdown",
   "metadata": {},
   "source": [
    "## The Data"
   ]
  },
  {
   "cell_type": "markdown",
   "metadata": {},
   "source": [
    "I am going to be using two data sets.  \n",
    "\n",
    "The first, \"WorldCups.csv\" includes information about the tournament itself.  It includes:\n",
    "1. Year of Tournament\n",
    "2. Host Country(s)\n",
    "3. The Winner\n",
    "4. Runner-up\n",
    "5. 3rd place\n",
    "6. 4th place\n",
    "7. Total goals scored\n",
    "8. Size of the field (qualified teams)\n",
    "9. Matches played\n",
    "10. Total attendance\n",
    "\n",
    "The second, \"WorldCupMatches.csv\" includes individual match data.  Including:\n",
    "1. Year\n",
    "2. Date and time of match\n",
    "3. Round (stage in the tournament)\n",
    "4. City where match took place\n",
    "5. Home team (determined by a random draw except for the host team)\n",
    "6. Home team goals\n",
    "7. Away team goals\n",
    "6. Away team (determined by random draw)\n",
    "7. Observation about the match (e.g. decided by penalty kicks)\n",
    "\n",
    "With the exception of 13 data points for which team was designated as home or away in a given match.  The data is complete and consistent.\n",
    "\n"
   ]
  },
  {
   "cell_type": "markdown",
   "metadata": {},
   "source": [
    "### Data Wrangling\n",
    "\n",
    "After importing the WorldCups.csv file, I reviewed the data types, size, and some sample rows.  The data looks clean and consistent with no missing values for the years when the World Cup was played."
   ]
  },
  {
   "cell_type": "code",
   "execution_count": 1,
   "metadata": {},
   "outputs": [],
   "source": [
    "#Import modules\n",
    "import pandas as pd\n",
    "import numpy as np\n",
    "import statistics as st\n",
    "import matplotlib.pyplot as plt\n",
    "%matplotlib inline"
   ]
  },
  {
   "cell_type": "code",
   "execution_count": 2,
   "metadata": {},
   "outputs": [],
   "source": [
    "#Import csv data into data frames\n",
    "#This file contains information about all FIFA worlds cups e.g. year, location winner\n",
    "dfCups = pd.read_csv('WorldCups.csv')\n"
   ]
  },
  {
   "cell_type": "code",
   "execution_count": 3,
   "metadata": {},
   "outputs": [
    {
     "name": "stdout",
     "output_type": "stream",
     "text": [
      "(20, 10)\n",
      "<class 'pandas.core.frame.DataFrame'>\n",
      "RangeIndex: 20 entries, 0 to 19\n",
      "Data columns (total 10 columns):\n",
      "Year              20 non-null int64\n",
      "Country           20 non-null object\n",
      "Winner            20 non-null object\n",
      "Runners-Up        20 non-null object\n",
      "Third             20 non-null object\n",
      "Fourth            20 non-null object\n",
      "GoalsScored       20 non-null int64\n",
      "QualifiedTeams    20 non-null int64\n",
      "MatchesPlayed     20 non-null int64\n",
      "Attendance        20 non-null object\n",
      "dtypes: int64(4), object(6)\n",
      "memory usage: 1.6+ KB\n",
      "None\n",
      "   Year  Country   Winner      Runners-Up    Third      Fourth  GoalsScored  \\\n",
      "0  1930  Uruguay  Uruguay       Argentina      USA  Yugoslavia           70   \n",
      "1  1934    Italy    Italy  Czechoslovakia  Germany     Austria           70   \n",
      "\n",
      "   QualifiedTeams  MatchesPlayed Attendance  \n",
      "0              13             18    590.549  \n",
      "1              16             17    363.000  \n"
     ]
    }
   ],
   "source": [
    "#Do a high-level review of the data\n",
    "print(dfCups.shape)\n",
    "print(dfCups.info())\n",
    "print(dfCups.head(2))"
   ]
  },
  {
   "cell_type": "markdown",
   "metadata": {},
   "source": [
    "The World Cup Matches data set includes over 3,000 empty rows.  I decided to drop those from the data frame to have the correct counts.  Once that was completed I once again reviewed the shape and info and found that there were a limited number of NaN values in 2 fields across 13 records.  Since this was relatively limited given a population of over 850 records, I decided to move forward with the analysis without further transformation of the underlying data.\n",
    "\n",
    "There eas a need to create some additional fields to conduct specific analyses, but those details are contained in the respective analytic question section below."
   ]
  },
  {
   "cell_type": "code",
   "execution_count": 4,
   "metadata": {},
   "outputs": [],
   "source": [
    "#This file contains individual match information across all FIFA World Cup tournaments\n",
    "dfMatches = pd.read_csv('WorldCupMatches.csv')"
   ]
  },
  {
   "cell_type": "code",
   "execution_count": 5,
   "metadata": {},
   "outputs": [
    {
     "name": "stdout",
     "output_type": "stream",
     "text": [
      "(4572, 10)\n",
      "<class 'pandas.core.frame.DataFrame'>\n",
      "RangeIndex: 4572 entries, 0 to 4571\n",
      "Data columns (total 10 columns):\n",
      "Year           852 non-null float64\n",
      "DateTime       852 non-null object\n",
      "Round          852 non-null object\n",
      "Stadium        852 non-null object\n",
      "City           852 non-null object\n",
      "HomeTeam       847 non-null object\n",
      "HomeGoals      852 non-null float64\n",
      "AwayGoals      852 non-null float64\n",
      "AwayTeam       844 non-null object\n",
      "Observation    852 non-null object\n",
      "dtypes: float64(3), object(7)\n",
      "memory usage: 357.3+ KB\n",
      "None\n",
      "     Year              DateTime    Round         Stadium         City  \\\n",
      "0  1930.0  13 Jul 1930 - 15:00   Group 1         Pocitos  Montevideo    \n",
      "1  1930.0  13 Jul 1930 - 15:00   Group 4  Parque Central  Montevideo    \n",
      "\n",
      "  HomeTeam  HomeGoals  AwayGoals AwayTeam Observation  \n",
      "0   France        4.0        1.0   Mexico              \n",
      "1      USA        3.0        0.0  Belgium              \n"
     ]
    }
   ],
   "source": [
    "#Get a high-level sense of the imported data\n",
    "print(dfMatches.shape)\n",
    "print(dfMatches.info())\n",
    "print(dfMatches.head(2))"
   ]
  },
  {
   "cell_type": "code",
   "execution_count": 6,
   "metadata": {},
   "outputs": [],
   "source": [
    "#There are records where all fields are NaN, I want to drop those from the dfMatches\n",
    "dfMatches=dfMatches.dropna(how='all')"
   ]
  },
  {
   "cell_type": "code",
   "execution_count": 7,
   "metadata": {},
   "outputs": [
    {
     "name": "stdout",
     "output_type": "stream",
     "text": [
      "(852, 10)\n",
      "<class 'pandas.core.frame.DataFrame'>\n",
      "Int64Index: 852 entries, 0 to 851\n",
      "Data columns (total 10 columns):\n",
      "Year           852 non-null float64\n",
      "DateTime       852 non-null object\n",
      "Round          852 non-null object\n",
      "Stadium        852 non-null object\n",
      "City           852 non-null object\n",
      "HomeTeam       847 non-null object\n",
      "HomeGoals      852 non-null float64\n",
      "AwayGoals      852 non-null float64\n",
      "AwayTeam       844 non-null object\n",
      "Observation    852 non-null object\n",
      "dtypes: float64(3), object(7)\n",
      "memory usage: 73.2+ KB\n",
      "None\n",
      "       Year              DateTime                     Round  \\\n",
      "850  2014.0  12 Jul 2014 - 17:00   Play-off for third place   \n",
      "851  2014.0  13 Jul 2014 - 16:00                      Final   \n",
      "\n",
      "                 Stadium             City HomeTeam  HomeGoals  AwayGoals  \\\n",
      "850     Estadio Nacional        Brasilia    Brazil        0.0        3.0   \n",
      "851  Estadio do Maracana  Rio De Janeiro   Germany        1.0        0.0   \n",
      "\n",
      "        AwayTeam                    Observation  \n",
      "850  Netherlands                                 \n",
      "851    Argentina  Germany win after extra time   \n"
     ]
    }
   ],
   "source": [
    "#Check data again after transformation\n",
    "print(dfMatches.shape)\n",
    "print(dfMatches.info())\n",
    "print(dfMatches.tail(2))"
   ]
  },
  {
   "cell_type": "code",
   "execution_count": 8,
   "metadata": {},
   "outputs": [
    {
     "data": {
      "text/html": [
       "<div>\n",
       "<style scoped>\n",
       "    .dataframe tbody tr th:only-of-type {\n",
       "        vertical-align: middle;\n",
       "    }\n",
       "\n",
       "    .dataframe tbody tr th {\n",
       "        vertical-align: top;\n",
       "    }\n",
       "\n",
       "    .dataframe thead th {\n",
       "        text-align: right;\n",
       "    }\n",
       "</style>\n",
       "<table border=\"1\" class=\"dataframe\">\n",
       "  <thead>\n",
       "    <tr style=\"text-align: right;\">\n",
       "      <th></th>\n",
       "      <th>Year</th>\n",
       "      <th>DateTime</th>\n",
       "      <th>Round</th>\n",
       "      <th>Stadium</th>\n",
       "      <th>City</th>\n",
       "      <th>HomeTeam</th>\n",
       "      <th>HomeGoals</th>\n",
       "      <th>AwayGoals</th>\n",
       "      <th>AwayTeam</th>\n",
       "      <th>Observation</th>\n",
       "    </tr>\n",
       "  </thead>\n",
       "  <tbody>\n",
       "    <tr>\n",
       "      <th>108</th>\n",
       "      <td>1958.0</td>\n",
       "      <td>08 Jun 1958 - 19:00</td>\n",
       "      <td>Group 1</td>\n",
       "      <td>Orjans Vall</td>\n",
       "      <td>Halmstad</td>\n",
       "      <td>NaN</td>\n",
       "      <td>1.0</td>\n",
       "      <td>0.0</td>\n",
       "      <td>Czechoslovakia</td>\n",
       "      <td></td>\n",
       "    </tr>\n",
       "    <tr>\n",
       "      <th>126</th>\n",
       "      <td>1958.0</td>\n",
       "      <td>17 Jun 1958 - 19:00</td>\n",
       "      <td>Group 1</td>\n",
       "      <td>Malmo Stadion</td>\n",
       "      <td>Malm�</td>\n",
       "      <td>NaN</td>\n",
       "      <td>2.0</td>\n",
       "      <td>1.0</td>\n",
       "      <td>Czechoslovakia</td>\n",
       "      <td>Northern Ireland win after extra time</td>\n",
       "    </tr>\n",
       "    <tr>\n",
       "      <th>343</th>\n",
       "      <td>1982.0</td>\n",
       "      <td>25 Jun 1982 - 21:00</td>\n",
       "      <td>Group 5</td>\n",
       "      <td>Luis Casanova</td>\n",
       "      <td>Valencia</td>\n",
       "      <td>NaN</td>\n",
       "      <td>1.0</td>\n",
       "      <td>0.0</td>\n",
       "      <td>Spain</td>\n",
       "      <td></td>\n",
       "    </tr>\n",
       "    <tr>\n",
       "      <th>378</th>\n",
       "      <td>1986.0</td>\n",
       "      <td>07 Jun 1986 - 12:00</td>\n",
       "      <td>Group D</td>\n",
       "      <td>Tres de Marzo</td>\n",
       "      <td>Guadalajara</td>\n",
       "      <td>NaN</td>\n",
       "      <td>1.0</td>\n",
       "      <td>2.0</td>\n",
       "      <td>Spain</td>\n",
       "      <td></td>\n",
       "    </tr>\n",
       "    <tr>\n",
       "      <th>392</th>\n",
       "      <td>1986.0</td>\n",
       "      <td>12 Jun 1986 - 12:00</td>\n",
       "      <td>Group D</td>\n",
       "      <td>Jalisco</td>\n",
       "      <td>Guadalajara</td>\n",
       "      <td>NaN</td>\n",
       "      <td>0.0</td>\n",
       "      <td>3.0</td>\n",
       "      <td>Brazil</td>\n",
       "      <td></td>\n",
       "    </tr>\n",
       "  </tbody>\n",
       "</table>\n",
       "</div>"
      ],
      "text/plain": [
       "       Year              DateTime    Round        Stadium          City  \\\n",
       "108  1958.0  08 Jun 1958 - 19:00   Group 1    Orjans Vall     Halmstad    \n",
       "126  1958.0  17 Jun 1958 - 19:00   Group 1  Malmo Stadion        Malm�    \n",
       "343  1982.0  25 Jun 1982 - 21:00   Group 5  Luis Casanova     Valencia    \n",
       "378  1986.0  07 Jun 1986 - 12:00   Group D  Tres de Marzo  Guadalajara    \n",
       "392  1986.0  12 Jun 1986 - 12:00   Group D        Jalisco  Guadalajara    \n",
       "\n",
       "    HomeTeam  HomeGoals  AwayGoals        AwayTeam  \\\n",
       "108      NaN        1.0        0.0  Czechoslovakia   \n",
       "126      NaN        2.0        1.0  Czechoslovakia   \n",
       "343      NaN        1.0        0.0           Spain   \n",
       "378      NaN        1.0        2.0           Spain   \n",
       "392      NaN        0.0        3.0          Brazil   \n",
       "\n",
       "                                Observation  \n",
       "108                                          \n",
       "126  Northern Ireland win after extra time   \n",
       "343                                          \n",
       "378                                          \n",
       "392                                          "
      ]
     },
     "execution_count": 8,
     "metadata": {},
     "output_type": "execute_result"
    }
   ],
   "source": [
    "#Review records where there are Nulls, small number so moving forward\n",
    "dfMatches[dfMatches['HomeTeam'].isnull()]"
   ]
  },
  {
   "cell_type": "code",
   "execution_count": 9,
   "metadata": {},
   "outputs": [
    {
     "data": {
      "text/html": [
       "<div>\n",
       "<style scoped>\n",
       "    .dataframe tbody tr th:only-of-type {\n",
       "        vertical-align: middle;\n",
       "    }\n",
       "\n",
       "    .dataframe tbody tr th {\n",
       "        vertical-align: top;\n",
       "    }\n",
       "\n",
       "    .dataframe thead th {\n",
       "        text-align: right;\n",
       "    }\n",
       "</style>\n",
       "<table border=\"1\" class=\"dataframe\">\n",
       "  <thead>\n",
       "    <tr style=\"text-align: right;\">\n",
       "      <th></th>\n",
       "      <th>Year</th>\n",
       "      <th>DateTime</th>\n",
       "      <th>Round</th>\n",
       "      <th>Stadium</th>\n",
       "      <th>City</th>\n",
       "      <th>HomeTeam</th>\n",
       "      <th>HomeGoals</th>\n",
       "      <th>AwayGoals</th>\n",
       "      <th>AwayTeam</th>\n",
       "      <th>Observation</th>\n",
       "    </tr>\n",
       "  </thead>\n",
       "  <tbody>\n",
       "    <tr>\n",
       "      <th>115</th>\n",
       "      <td>1958.0</td>\n",
       "      <td>11 Jun 1958 - 19:00</td>\n",
       "      <td>Group 1</td>\n",
       "      <td>Orjans Vall</td>\n",
       "      <td>Halmstad</td>\n",
       "      <td>Argentina</td>\n",
       "      <td>3.0</td>\n",
       "      <td>1.0</td>\n",
       "      <td>NaN</td>\n",
       "      <td></td>\n",
       "    </tr>\n",
       "    <tr>\n",
       "      <th>119</th>\n",
       "      <td>1958.0</td>\n",
       "      <td>15 Jun 1958 - 19:00</td>\n",
       "      <td>Group 1</td>\n",
       "      <td>Malmo Stadion</td>\n",
       "      <td>Malm�</td>\n",
       "      <td>Germany FR</td>\n",
       "      <td>2.0</td>\n",
       "      <td>2.0</td>\n",
       "      <td>NaN</td>\n",
       "      <td></td>\n",
       "    </tr>\n",
       "    <tr>\n",
       "      <th>131</th>\n",
       "      <td>1958.0</td>\n",
       "      <td>19 Jun 1958 - 19:00</td>\n",
       "      <td>Quarter-finals</td>\n",
       "      <td>Idrottsparken</td>\n",
       "      <td>Norrk�Ping</td>\n",
       "      <td>France</td>\n",
       "      <td>4.0</td>\n",
       "      <td>0.0</td>\n",
       "      <td>NaN</td>\n",
       "      <td></td>\n",
       "    </tr>\n",
       "    <tr>\n",
       "      <th>319</th>\n",
       "      <td>1982.0</td>\n",
       "      <td>17 Jun 1982 - 21:00</td>\n",
       "      <td>Group 5</td>\n",
       "      <td>La Romareda</td>\n",
       "      <td>Zaragoza</td>\n",
       "      <td>Yugoslavia</td>\n",
       "      <td>0.0</td>\n",
       "      <td>0.0</td>\n",
       "      <td>NaN</td>\n",
       "      <td></td>\n",
       "    </tr>\n",
       "    <tr>\n",
       "      <th>331</th>\n",
       "      <td>1982.0</td>\n",
       "      <td>21 Jun 1982 - 21:00</td>\n",
       "      <td>Group 5</td>\n",
       "      <td>La Romareda</td>\n",
       "      <td>Zaragoza</td>\n",
       "      <td>Honduras</td>\n",
       "      <td>1.0</td>\n",
       "      <td>1.0</td>\n",
       "      <td>NaN</td>\n",
       "      <td></td>\n",
       "    </tr>\n",
       "    <tr>\n",
       "      <th>348</th>\n",
       "      <td>1982.0</td>\n",
       "      <td>01 Jul 1982 - 17:15</td>\n",
       "      <td>Group 4</td>\n",
       "      <td>Vicente Calderon</td>\n",
       "      <td>Madrid</td>\n",
       "      <td>Austria</td>\n",
       "      <td>2.0</td>\n",
       "      <td>2.0</td>\n",
       "      <td>NaN</td>\n",
       "      <td></td>\n",
       "    </tr>\n",
       "    <tr>\n",
       "      <th>352</th>\n",
       "      <td>1982.0</td>\n",
       "      <td>04 Jul 1982 - 17:15</td>\n",
       "      <td>Group 4</td>\n",
       "      <td>Vicente Calderon</td>\n",
       "      <td>Madrid</td>\n",
       "      <td>France</td>\n",
       "      <td>4.0</td>\n",
       "      <td>1.0</td>\n",
       "      <td>NaN</td>\n",
       "      <td></td>\n",
       "    </tr>\n",
       "    <tr>\n",
       "      <th>366</th>\n",
       "      <td>1986.0</td>\n",
       "      <td>03 Jun 1986 - 12:00</td>\n",
       "      <td>Group D</td>\n",
       "      <td>Tres de Marzo</td>\n",
       "      <td>Guadalajara</td>\n",
       "      <td>Algeria</td>\n",
       "      <td>1.0</td>\n",
       "      <td>1.0</td>\n",
       "      <td>NaN</td>\n",
       "      <td></td>\n",
       "    </tr>\n",
       "  </tbody>\n",
       "</table>\n",
       "</div>"
      ],
      "text/plain": [
       "       Year              DateTime           Round           Stadium  \\\n",
       "115  1958.0  11 Jun 1958 - 19:00          Group 1       Orjans Vall   \n",
       "119  1958.0  15 Jun 1958 - 19:00          Group 1     Malmo Stadion   \n",
       "131  1958.0  19 Jun 1958 - 19:00   Quarter-finals     Idrottsparken   \n",
       "319  1982.0  17 Jun 1982 - 21:00          Group 5       La Romareda   \n",
       "331  1982.0  21 Jun 1982 - 21:00          Group 5       La Romareda   \n",
       "348  1982.0  01 Jul 1982 - 17:15          Group 4  Vicente Calderon   \n",
       "352  1982.0  04 Jul 1982 - 17:15          Group 4  Vicente Calderon   \n",
       "366  1986.0  03 Jun 1986 - 12:00          Group D     Tres de Marzo   \n",
       "\n",
       "             City    HomeTeam  HomeGoals  AwayGoals AwayTeam Observation  \n",
       "115     Halmstad    Argentina        3.0        1.0      NaN              \n",
       "119        Malm�   Germany FR        2.0        2.0      NaN              \n",
       "131   Norrk�Ping       France        4.0        0.0      NaN              \n",
       "319     Zaragoza   Yugoslavia        0.0        0.0      NaN              \n",
       "331     Zaragoza     Honduras        1.0        1.0      NaN              \n",
       "348       Madrid      Austria        2.0        2.0      NaN              \n",
       "352       Madrid       France        4.0        1.0      NaN              \n",
       "366  Guadalajara      Algeria        1.0        1.0      NaN              "
      ]
     },
     "execution_count": 9,
     "metadata": {},
     "output_type": "execute_result"
    }
   ],
   "source": [
    "#Review records where there are Nulls, small number so moving forward\n",
    "dfMatches[dfMatches['AwayTeam'].isnull()]"
   ]
  },
  {
   "cell_type": "markdown",
   "metadata": {},
   "source": [
    "## Analytics Questions\n",
    "### 1. How has the size of the field evolved over time?\n",
    "\n",
    "The tournament has taken place every four years since the first contest in Uruguay in 1930.  There were two exceptions to this in 1942 and 1946 due to World War II.  To account for that, before analyzing the size of the field, I added the missing years and corresponding qualified teams (zero for both those years).\n",
    "\n",
    "The bar char below shows that there was some inconsistency in the early years of the tournament with the field going from 13 to 16, then 15 and back to 13 in 1950.  After that the tournament format settled on 16 teams through the 1970s.  For the tournament in Spain in 1982, the field expanded to 24 teams and then again to 32 teams for the 1998 tournament in France."
   ]
  },
  {
   "cell_type": "code",
   "execution_count": 10,
   "metadata": {},
   "outputs": [
    {
     "data": {
      "image/png": "[encoded data removed]",
      "text/plain": [
       "<Figure size 864x360 with 1 Axes>"
      ]
     },
     "metadata": {},
     "output_type": "display_data"
    }
   ],
   "source": [
    "#Get a sense for how the tournament has evolved over the years as it relates to size of field\n",
    "\n",
    "#Need to account for the years that WC was suspended during World War II\n",
    "years = list(dfCups['Year'])\n",
    "years.insert(3,1942)\n",
    "years.insert(4,1946)\n",
    "\n",
    "teams = list(dfCups['QualifiedTeams'])\n",
    "teams.insert(3,0)\n",
    "teams.insert(4,0)\n",
    "\n",
    "y_pos = np.arange(len(years))\n",
    "\n",
    "plt.figure(figsize=(12,5))\n",
    "plt.bar(y_pos, teams, align='center', alpha=0.5)\n",
    "plt.xticks(y_pos, years)\n",
    "plt.ylabel('Teams in Tournament')\n",
    "plt.xlabel('World Cup Year')\n",
    "plt.title('Teams in the Tournament by Year')\n",
    "plt.show()"
   ]
  },
  {
   "cell_type": "markdown",
   "metadata": {},
   "source": [
    "### 2. Where has the tournament been held?\n",
    "It is said that FIFA World Cup is the most popular sporting event in the world.  The nations that host the tournament make significant investments in infrastructure and benefit from tourism, economic activity and an opportunity to showcase their country on the world stage.  \n",
    "\n",
    "The bar char below shows that the tournament has been held in 15 countries across the 20 times it's been played.  Four countries - Brazil, France, Germany and Mexico - have hosted the tournament twice.  Korea and Japan co-hosted the tournament in 2002.  The Americas have hosted 8 times, European countries 10 times, Asia and Africa one each."
   ]
  },
  {
   "cell_type": "code",
   "execution_count": 11,
   "metadata": {
    "scrolled": true
   },
   "outputs": [
    {
     "data": {
      "image/png": "[encoded data removed]",
      "text/plain": [
       "<Figure size 1080x360 with 1 Axes>"
      ]
     },
     "metadata": {},
     "output_type": "display_data"
    }
   ],
   "source": [
    "#Get a sense for where the tournament has been held\n",
    "dfLocation=pd.DataFrame\n",
    "dfLocation=dfCups.groupby('Country').count()\n",
    "\n",
    "host = list(dfLocation.index)\n",
    "host_instance = list(dfLocation['Year'])\n",
    "\n",
    "y_pos = np.arange(len(host))\n",
    "\n",
    "plt.figure(figsize=(15,5))\n",
    "plt.bar(y_pos, host_instance, align='center', alpha=0.5)\n",
    "plt.xticks(y_pos, host)\n",
    "plt.ylabel('Location of World Cups')\n",
    "plt.xlabel('Host')\n",
    "plt.title('Nation Hosts')\n",
    "plt.show()"
   ]
  },
  {
   "cell_type": "markdown",
   "metadata": {},
   "source": [
    "### 3. Which countries have won the tournament?\n",
    "Over the 20 times the tournament has been played, only 8 countries have been crowned champions.  Brazil holds the record with 5 World Cup wins, followed by Italy and Germany** with 4.\n",
    "\n",
    "**Germany won 3 of it's titles during the Cold War as the German Federal Republic, or West Germany.  After re-unification in the 1990s, they went on to win a 4th title.  It is commonly accepted, however that Germany has won the tournament 4 times even though 3 of those, it did so officially as West Germany.  Latin American countries have won the tournament 9 times and European countries 11 times."
   ]
  },
  {
   "cell_type": "code",
   "execution_count": 12,
   "metadata": {},
   "outputs": [
    {
     "data": {
      "image/png": "[encoded data removed]",
      "text/plain": [
       "<Figure size 1080x360 with 1 Axes>"
      ]
     },
     "metadata": {},
     "output_type": "display_data"
    }
   ],
   "source": [
    "#Look at who has won the tournament\n",
    "dfWinners=pd.DataFrame\n",
    "dfWinners=dfCups.groupby('Winner').count()\n",
    "\n",
    "winner = list(dfWinners.index)\n",
    "winner_instance = list(dfWinners['Year'])\n",
    "\n",
    "y_pos = np.arange(len(winner))\n",
    "\n",
    "plt.figure(figsize=(15,5))\n",
    "plt.bar(y_pos, winner_instance, align='center', alpha=0.5)\n",
    "plt.xticks(y_pos, winner)\n",
    "plt.ylabel('World Cups')\n",
    "plt.xlabel('Country')\n",
    "plt.title('World Cup Wins by Country')\n",
    "plt.show()"
   ]
  },
  {
   "cell_type": "markdown",
   "metadata": {},
   "source": [
    "### 4. Have match scores and spreads remained consistent?\n",
    "It would be interesting to understand whether over the 20 instances the tournament has been played, the competitiveness of the field has evolved.  To understand this better, I graphed the score of the home team, away team and the goal differential across all matches.  To do this, it was necessary to create a new field to capture the goal differential.\n",
    "\n",
    "It's interesting to see how much closer games have gotten over time.  The mean of goal differential by tournament year, shows a clear downward trend.  It also appears that the designated \"Home\" team in a given match, used to score significantly more goals on average than the \"Away\" team in the early years of the tournament.  This may be driven by the fact that the field was smaller so the true \"Home\" team (the host country) was having a more significant impact on the average.  Interestingly, the away team average goals, have remained pretty consistent throughout the years."
   ]
  },
  {
   "cell_type": "code",
   "execution_count": 13,
   "metadata": {},
   "outputs": [],
   "source": [
    "#Need to create a field to capture who won the game as well as goal differential\n",
    "\n",
    "goal_diff=[]\n",
    "winner=[]\n",
    "\n",
    "\n",
    "for index, row in dfMatches.iterrows():\n",
    "    goal_diff.append(abs(row['HomeGoals']-row['AwayGoals']))\n",
    "    if row['HomeGoals'] > row['AwayGoals']:\n",
    "        winner.append(row['HomeTeam'])\n",
    "    elif row['HomeGoals'] < row['AwayGoals']:\n",
    "        winner.append(row['AwayTeam'])\n",
    "    else:\n",
    "        winner.append('Tie')        \n",
    "\n",
    "\n",
    "dfMatches['GoalDiff'] = goal_diff\n",
    "dfMatches['Winner'] = winner"
   ]
  },
  {
   "cell_type": "code",
   "execution_count": 14,
   "metadata": {},
   "outputs": [
    {
     "data": {
      "image/png": "[encoded data removed]",
      "text/plain": [
       "<Figure size 1080x360 with 1 Axes>"
      ]
     },
     "metadata": {},
     "output_type": "display_data"
    }
   ],
   "source": [
    "#Have matches been getting more competitive by looking at average goals by home and away teams as well as goal diff\n",
    "\n",
    "plt.figure(figsize=(15,5))\n",
    "plt.plot(dfMatches.groupby('Year').aggregate(np.mean))\n",
    "plt.legend(['Home Goals','Away Goals','Goal Differential'])\n",
    "\n",
    "plt.ylabel('Mean Goals')\n",
    "plt.xlabel('Year')\n",
    "plt.title('Mean Home/Away Goals and Differential')\n",
    "\n",
    "plt.show()"
   ]
  },
  {
   "cell_type": "markdown",
   "metadata": {},
   "source": [
    "### 5. Whats the distribution of goal differential?\n",
    "I wanted to understand, across all available match data, by how many goals did the winning team win by.  The histogram below shows that the vast majority of matches (334) were won by 1 goal. 172 were won by 2, 88 by 3 and only a handful by more than that.  3 matches were won by 9 goals.  For two of those the winner was Hungary, once in 1954 against Korea and again in 1982 against El Salvador."
   ]
  },
  {
   "cell_type": "code",
   "execution_count": null,
   "metadata": {},
   "outputs": [],
   "source": []
  },
  {
   "cell_type": "code",
   "execution_count": 15,
   "metadata": {},
   "outputs": [
    {
     "data": {
      "image/png": "[encoded data removed]",
      "text/plain": [
       "<Figure size 432x288 with 1 Axes>"
      ]
     },
     "metadata": {},
     "output_type": "display_data"
    }
   ],
   "source": [
    "dfMatches.max()\n",
    "\n",
    "plt.hist(dfMatches.loc[lambda dfMatches: dfMatches['GoalDiff']>0, :]['GoalDiff'], bins=8)\n",
    "\n",
    "plt.ylabel('Goal Differential for the Win')\n",
    "plt.xlabel('Goal Difference')\n",
    "plt.title('Number of Matches')\n",
    "\n",
    "plt.show()"
   ]
  },
  {
   "cell_type": "code",
   "execution_count": 16,
   "metadata": {},
   "outputs": [
    {
     "data": {
      "text/html": [
       "<div>\n",
       "<style scoped>\n",
       "    .dataframe tbody tr th:only-of-type {\n",
       "        vertical-align: middle;\n",
       "    }\n",
       "\n",
       "    .dataframe tbody tr th {\n",
       "        vertical-align: top;\n",
       "    }\n",
       "\n",
       "    .dataframe thead th {\n",
       "        text-align: right;\n",
       "    }\n",
       "</style>\n",
       "<table border=\"1\" class=\"dataframe\">\n",
       "  <thead>\n",
       "    <tr style=\"text-align: right;\">\n",
       "      <th></th>\n",
       "      <th>Year</th>\n",
       "      <th>DateTime</th>\n",
       "      <th>Round</th>\n",
       "      <th>Stadium</th>\n",
       "      <th>City</th>\n",
       "      <th>HomeTeam</th>\n",
       "      <th>HomeGoals</th>\n",
       "      <th>AwayGoals</th>\n",
       "      <th>AwayTeam</th>\n",
       "      <th>Observation</th>\n",
       "      <th>GoalDiff</th>\n",
       "      <th>Winner</th>\n",
       "    </tr>\n",
       "  </thead>\n",
       "  <tbody>\n",
       "    <tr>\n",
       "      <th>80</th>\n",
       "      <td>1954.0</td>\n",
       "      <td>17 Jun 1954 - 18:00</td>\n",
       "      <td>Group 2</td>\n",
       "      <td>Hardturm</td>\n",
       "      <td>Zurich</td>\n",
       "      <td>Hungary</td>\n",
       "      <td>9.0</td>\n",
       "      <td>0.0</td>\n",
       "      <td>Korea Republic</td>\n",
       "      <td></td>\n",
       "      <td>9.0</td>\n",
       "      <td>Hungary</td>\n",
       "    </tr>\n",
       "    <tr>\n",
       "      <th>243</th>\n",
       "      <td>1974.0</td>\n",
       "      <td>18 Jun 1974 - 19:30</td>\n",
       "      <td>Group 2</td>\n",
       "      <td>Parkstadion</td>\n",
       "      <td>Gelsenkirchen</td>\n",
       "      <td>Yugoslavia</td>\n",
       "      <td>9.0</td>\n",
       "      <td>0.0</td>\n",
       "      <td>Zaire</td>\n",
       "      <td></td>\n",
       "      <td>9.0</td>\n",
       "      <td>Yugoslavia</td>\n",
       "    </tr>\n",
       "    <tr>\n",
       "      <th>312</th>\n",
       "      <td>1982.0</td>\n",
       "      <td>15 Jun 1982 - 21:00</td>\n",
       "      <td>Group 3</td>\n",
       "      <td>Nuevo Estadio</td>\n",
       "      <td>Elche</td>\n",
       "      <td>Hungary</td>\n",
       "      <td>10.0</td>\n",
       "      <td>1.0</td>\n",
       "      <td>El Salvador</td>\n",
       "      <td></td>\n",
       "      <td>9.0</td>\n",
       "      <td>Hungary</td>\n",
       "    </tr>\n",
       "  </tbody>\n",
       "</table>\n",
       "</div>"
      ],
      "text/plain": [
       "       Year              DateTime    Round        Stadium            City  \\\n",
       "80   1954.0  17 Jun 1954 - 18:00   Group 2       Hardturm         Zurich    \n",
       "243  1974.0  18 Jun 1974 - 19:30   Group 2    Parkstadion  Gelsenkirchen    \n",
       "312  1982.0  15 Jun 1982 - 21:00   Group 3  Nuevo Estadio          Elche    \n",
       "\n",
       "       HomeTeam  HomeGoals  AwayGoals        AwayTeam Observation  GoalDiff  \\\n",
       "80      Hungary        9.0        0.0  Korea Republic                   9.0   \n",
       "243  Yugoslavia        9.0        0.0           Zaire                   9.0   \n",
       "312     Hungary       10.0        1.0     El Salvador                   9.0   \n",
       "\n",
       "         Winner  \n",
       "80      Hungary  \n",
       "243  Yugoslavia  \n",
       "312     Hungary  "
      ]
     },
     "execution_count": 16,
     "metadata": {},
     "output_type": "execute_result"
    }
   ],
   "source": [
    "#What matches make up the 9 goal buckes\n",
    "dfMatches.loc[lambda dfMatches: dfMatches['GoalDiff']>8, :]"
   ]
  },
  {
   "cell_type": "markdown",
   "metadata": {},
   "source": [
    "### 6. Is there an advantage to being the \"Home\" team?\n",
    "In every World Cup there's only one true \"home\" team and that's the host.  All other matches have the \"home\" \"away\" designations determined by a random draw.  My understanding based on the research I did, is that the only \"home\" advantage amounts to the \"home\" team wearing the jersey they want and the \"away\" team - potentially - having to wear a different jersey officials believe similarities could lead to confusion.\n",
    "\n",
    "Given the \"home\" advantage is relatively trivial outside of the host nation, it was interesting to see that close to 60% of matches in all World Cups are won by the designated \"home\" team.  For this analysis I did not control for the fact that in every tournament there is one true \"home\" team that could be benefiting from crowd support or increased familirity with field or climate - so that will skew the data.  While this is likely inflating the number, an almost 3:1 ratio in \"home\" wins vs. \"away\" could not be explained by that.  Could jersey used have an impact?  Further analysis is required, which could include a review of historical rules as it may be that in the past, there was more to the \"home\" vs. \"away\" designation than a random draw (e.g. tournament seed)."
   ]
  },
  {
   "cell_type": "code",
   "execution_count": 17,
   "metadata": {},
   "outputs": [],
   "source": [
    "#Is there an advantage to being the home-team\n",
    "\n",
    "HomeOrAway=[]\n",
    "\n",
    "for index, row in dfMatches.iterrows():\n",
    "    if row['Winner'] == row['HomeTeam']:\n",
    "        HomeOrAway.append('Home')\n",
    "    elif row['Winner'] == row['AwayTeam']:\n",
    "        HomeOrAway.append('Away')\n",
    "    else:\n",
    "        HomeOrAway.append('Tie')\n",
    "        \n",
    "dfMatches['HomeOrAway'] = HomeOrAway"
   ]
  },
  {
   "cell_type": "code",
   "execution_count": 18,
   "metadata": {},
   "outputs": [
    {
     "data": {
      "text/plain": [
       "Home    485\n",
       "Tie     193\n",
       "Away    174\n",
       "Name: HomeOrAway, dtype: int64"
      ]
     },
     "execution_count": 18,
     "metadata": {},
     "output_type": "execute_result"
    }
   ],
   "source": [
    "dfHomeAway = pd.DataFrame\n",
    "dfHomeAway = dfMatches['HomeOrAway'].value_counts()\n",
    "dfHomeAway\n",
    "\n"
   ]
  },
  {
   "cell_type": "code",
   "execution_count": 19,
   "metadata": {},
   "outputs": [
    {
     "data": {
      "image/png": "[encoded data removed]",
      "text/plain": [
       "<Figure size 432x288 with 1 Axes>"
      ]
     },
     "metadata": {},
     "output_type": "display_data"
    }
   ],
   "source": [
    "label = []\n",
    "for item in (dfHomeAway.index):\n",
    "    label.append(item)\n",
    "    \n",
    "plt.pie(dfHomeAway, labels=label, autopct='%1.1f%%')\n",
    "plt.title('Percent of Matches Home vs Away Team Wins')\n",
    "plt.show()\n",
    "\n"
   ]
  },
  {
   "cell_type": "markdown",
   "metadata": {},
   "source": [
    "### 7. Are ties more prevalent when elimination is not necessarily on the line?\n",
    "The way the tournament is structured is as follows:\n",
    "\n",
    "In the first round, or group round, there is a round robin style competition in which the top teams in each group  (top two since 1982) advance in the tournament.  What this means is that a team doesn't need to win all matches to move on, sometimes a tie or even a loss can still mean advancing.  What matters is the relative performance against other teams in a given group.  During this group stage, a team that wins a match is awared 3 points, a tied yields 1 point and a loss no points.\n",
    "\n",
    "Beyond the first round of the tournament however, it is an elimination style competition - you have to win to advance.  In the elimination round, if after the 90 minutes of regulation have expired, the score is tied, there will be two additional 15 minute halves to see if the tie can be broken.  If it cannot, the game will be decided by penality kicks.  Interestingly, if a game is decided in this fashion, the official result is a tie.\n",
    "\n",
    "Given that officially a game can be tied in the elimination round, I wanted to test whether the \"do-or-die\" nature of elimination round, would result in a different incidence of ties than in the first round, when a tie can still mean a team will move forward.  \n",
    "\n",
    "In the bar chart below, we see that 25% of group round matches end in a tie, whereas only 15% of matches end in a tie (i.e. decides by penalty kicks) in the elimination rounds.  There is noise in this data because the population are not exactly the same as games in the elimination round get an additional 30 minutes to break a potentialy tie before it goes to penalty kicks.  Controlling for that would be an interesting follow on analysis.  It is also possible that the rules have changed in more recent tournaments, and that earlier World Cups in the sample, structured the rounds and extra time differently."
   ]
  },
  {
   "cell_type": "code",
   "execution_count": 20,
   "metadata": {},
   "outputs": [],
   "source": [
    "#games in elimination rounds that end in ties, vs, ties in non elimination rounds\n",
    "\n",
    "#Preliminary Rounds\n",
    "searchfor = ['Group', 'round']\n",
    "dfGroupStageTies = pd.DataFrame\n",
    "\n",
    "\n",
    "dfGroupStageTies = dfMatches.loc[lambda dfMatches: dfMatches['Round'].str.contains('|'.join(searchfor)), :]['HomeOrAway'].value_counts()\n",
    "\n",
    "GroupStagePercentTies = (dfGroupStageTies.loc['Tie']/(dfGroupStageTies.loc['Home']+dfGroupStageTies.loc['Away']+dfGroupStageTies.loc['Tie']))*100\n"
   ]
  },
  {
   "cell_type": "code",
   "execution_count": 21,
   "metadata": {},
   "outputs": [],
   "source": [
    "#Elimination Rounds\n",
    "dfEliminationStageTies = pd.DataFrame\n",
    "dfEliminationStageTies = dfMatches.loc[lambda dfMatches: ~dfMatches['Round'].str.contains('|'.join(searchfor)), :]['HomeOrAway'].value_counts()\n",
    "\n",
    "EliminationStagePercentTies = (dfEliminationStageTies.loc['Tie']/(dfEliminationStageTies.loc['Home']+dfEliminationStageTies.loc['Away']+dfEliminationStageTies.loc['Tie']))*100\n",
    "\n"
   ]
  },
  {
   "cell_type": "code",
   "execution_count": 22,
   "metadata": {},
   "outputs": [],
   "source": [
    "dicTieIncidence ={'Group Stage':GroupStagePercentTies,\n",
    "                  'Elimination Stage':EliminationStagePercentTies}\n",
    "\n"
   ]
  },
  {
   "cell_type": "code",
   "execution_count": 23,
   "metadata": {},
   "outputs": [
    {
     "data": {
      "image/png": "[encoded data removed]",
      "text/plain": [
       "<Figure size 432x288 with 1 Axes>"
      ]
     },
     "metadata": {},
     "output_type": "display_data"
    }
   ],
   "source": [
    "#Graph the percentage of games that end in ties in group stage vs elimination portion of tournament\n",
    "names = list(dicTieIncidence.keys())\n",
    "values = list(dicTieIncidence.values())\n",
    "plt.bar(0,values[0],tick_label=names[0])\n",
    "plt.bar(1,values[1],tick_label=names[1])\n",
    "plt.xticks(range(0,2),names)\n",
    "\n",
    "plt.ylabel('%')\n",
    "plt.xlabel('Tournament Stage')\n",
    "plt.title('Percent of Matches Ending in a Tie by Stage')\n",
    "\n",
    "plt.show()"
   ]
  },
  {
   "cell_type": "code",
   "execution_count": null,
   "metadata": {},
   "outputs": [],
   "source": []
  }
 ],
 "metadata": {
  "kernelspec": {
   "display_name": "Python 3",
   "language": "python",
   "name": "python3"
  },
  "language_info": {
   "codemirror_mode": {
    "name": "ipython",
    "version": 3
   },
   "file_extension": ".py",
   "mimetype": "text/x-python",
   "name": "python",
   "nbconvert_exporter": "python",
   "pygments_lexer": "ipython3",
   "version": "3.6.4"
  }
 },
 "nbformat": 4,
 "nbformat_minor": 2
}
